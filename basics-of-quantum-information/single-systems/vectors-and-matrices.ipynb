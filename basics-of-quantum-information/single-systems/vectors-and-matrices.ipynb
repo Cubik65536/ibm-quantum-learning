{
 "cells": [
  {
   "cell_type": "markdown",
   "id": "21bc3364324adb06",
   "metadata": {},
   "source": [
    "The example of code that defines `ket0` and `ket1`, corresponding to the qubit state vectors $|0\\rangle$ and $|1\\rangle$ respectively, and then calculate their average."
   ]
  },
  {
   "cell_type": "code",
   "execution_count": 5,
   "id": "initial_id",
   "metadata": {
    "ExecuteTime": {
     "end_time": "2025-01-03T23:30:52.258979Z",
     "start_time": "2025-01-03T23:30:52.253968Z"
    },
    "collapsed": true,
    "jupyter": {
     "outputs_hidden": true
    }
   },
   "outputs": [
    {
     "data": {
      "text/plain": [
       "array([0.5, 0.5])"
      ]
     },
     "metadata": {},
     "output_type": "display_data"
    }
   ],
   "source": [
    "from numpy import array\n",
    "\n",
    "ket0 = array([1, 0])\n",
    "ket1 = array([0, 1])\n",
    "\n",
    "display(ket0 / 2 + ket1 / 2)"
   ]
  },
  {
   "cell_type": "markdown",
   "id": "c58cf412e1d2b133",
   "metadata": {},
   "source": [
    "`display()` is not necessary in this demo:"
   ]
  },
  {
   "cell_type": "code",
   "execution_count": 6,
   "id": "90bd21075cb0224e",
   "metadata": {
    "ExecuteTime": {
     "end_time": "2025-01-03T23:30:52.350861Z",
     "start_time": "2025-01-03T23:30:52.347618Z"
    }
   },
   "outputs": [
    {
     "data": {
      "text/plain": [
       "array([0.5, 0.5])"
      ]
     },
     "execution_count": 6,
     "metadata": {},
     "output_type": "execute_result"
    }
   ],
   "source": [
    "ket0 / 2 + ket1 / 2"
   ]
  },
  {
   "cell_type": "markdown",
   "id": "271553049af166e5",
   "metadata": {},
   "source": [
    "Numpy's `array` can also be used to create matrices, which can represent operations in a system processing informations:"
   ]
  },
  {
   "cell_type": "code",
   "execution_count": 7,
   "id": "1ef03e14c6468b1d",
   "metadata": {
    "ExecuteTime": {
     "end_time": "2025-01-03T23:30:52.427911Z",
     "start_time": "2025-01-03T23:30:52.424507Z"
    }
   },
   "outputs": [
    {
     "data": {
      "text/plain": [
       "array([[1. , 1. ],\n",
       "       [0.5, 0. ]])"
      ]
     },
     "execution_count": 7,
     "metadata": {},
     "output_type": "execute_result"
    }
   ],
   "source": [
    "M1 = array([[1, 1], [0, 0]])\n",
    "M2 = array([[1, 1], [1, 0]])\n",
    "\n",
    "M1 / 2 + M2 / 2"
   ]
  },
  {
   "cell_type": "markdown",
   "id": "b607f308d620e165",
   "metadata": {},
   "source": [
    "And it is also possible to do Matrix multiplication through Numpy's `matmul()` function:"
   ]
  },
  {
   "cell_type": "code",
   "execution_count": 8,
   "id": "a78c1cd526288510",
   "metadata": {
    "ExecuteTime": {
     "end_time": "2025-01-03T23:30:52.475849Z",
     "start_time": "2025-01-03T23:30:52.472869Z"
    }
   },
   "outputs": [
    {
     "data": {
      "text/plain": [
       "array([[1, 1],\n",
       "       [1, 1]])"
      ]
     },
     "execution_count": 8,
     "metadata": {},
     "output_type": "execute_result"
    }
   ],
   "source": [
    "from numpy import matmul\n",
    "\n",
    "display(matmul(M1, ket1))\n",
    "display(matmul(M1, M2))\n",
    "display(matmul(M2, M1))"
   ]
  },
  {
   "metadata": {},
   "cell_type": "markdown",
   "source": "Note that only the last row of each cell is can be automatically displayed when not using `display()`. So in the case of the case above (for `matmul`), `display()` is still necessary, at least for `matmul(M1, ket1)` and `matmul(M1, M2)`.",
   "id": "61a04b07f3c2698f"
  }
 ],
 "metadata": {
  "kernelspec": {
   "display_name": "Python 3 (ipykernel)",
   "language": "python",
   "name": "python3"
  },
  "language_info": {
   "codemirror_mode": {
    "name": "ipython",
    "version": 3
   },
   "file_extension": ".py",
   "mimetype": "text/x-python",
   "name": "python",
   "nbconvert_exporter": "python",
   "pygments_lexer": "ipython3",
   "version": "3.13.1"
  }
 },
 "nbformat": 4,
 "nbformat_minor": 5
}
