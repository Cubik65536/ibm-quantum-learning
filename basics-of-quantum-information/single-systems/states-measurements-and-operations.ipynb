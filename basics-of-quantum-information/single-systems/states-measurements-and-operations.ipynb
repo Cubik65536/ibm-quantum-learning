{
 "cells": [
  {
   "cell_type": "markdown",
   "id": "eebad9010e2fdd80",
   "metadata": {},
   "source": [
    "### Defining and displaying state vectors\n",
    "\n",
    "The IBM Qiskit's `Statevector` can be used to define defining and manipulating quantum state vectors. The following code defines the qubit state vectors $u$, $v$, and $w$, which are $\\begin{pmatrix} \\frac{1}{\\sqrt{2}} \\\\ \\frac{1}{\\sqrt{2}} \\end{pmatrix}$, $\\begin{pmatrix} \\frac{1 + 2i}{3} \\\\ -\\frac{2}{3} \\end{pmatrix}$, and $\\begin{pmatrix} \\frac{1}{3} \\\\ \\frac{2}{3} \\end{pmatrix}$, respectively."
   ]
  },
  {
   "cell_type": "code",
   "id": "initial_id",
   "metadata": {
    "collapsed": true,
    "jupyter": {
     "outputs_hidden": true
    },
    "ExecuteTime": {
     "end_time": "2025-01-04T22:32:27.156963Z",
     "start_time": "2025-01-04T22:32:26.894318Z"
    }
   },
   "source": [
    "from qiskit.quantum_info import Statevector\n",
    "from numpy import sqrt\n",
    "\n",
    "u = Statevector([1 / sqrt(2), 1 / sqrt(2)])\n",
    "v = Statevector([(1 + 2.0j) / 3, -2 / 3])\n",
    "w = Statevector([1 / 3, 2 / 3])"
   ],
   "outputs": [],
   "execution_count": 1
  },
  {
   "cell_type": "markdown",
   "id": "d1af44eb16b3973e",
   "metadata": {},
   "source": [
    "Note that Numpy's `sqrt` is used to compute the square roots the state vector $u$.\n",
    "\n",
    "IBM Qiskit's `Statevector` also provides a `draw` method to allow displaying the state vectors, in either $\\LaTeX$ or `text` format."
   ]
  },
  {
   "cell_type": "code",
   "id": "945e8b7aa7d803c6",
   "metadata": {
    "ExecuteTime": {
     "end_time": "2025-01-04T22:32:27.448810Z",
     "start_time": "2025-01-04T22:32:27.166604Z"
    }
   },
   "source": [
    "display(u.draw('latex'))\n",
    "display(v.draw('latex'))\n",
    "display(w.draw('latex'))\n",
    "\n",
    "display(u.draw('text'))\n",
    "display(v.draw('text'))\n",
    "display(w.draw('text'))"
   ],
   "outputs": [
    {
     "data": {
      "text/plain": [
       "<IPython.core.display.Latex object>"
      ],
      "text/latex": "$$\\frac{\\sqrt{2}}{2} |0\\rangle+\\frac{\\sqrt{2}}{2} |1\\rangle$$"
     },
     "metadata": {},
     "output_type": "display_data"
    },
    {
     "data": {
      "text/plain": [
       "<IPython.core.display.Latex object>"
      ],
      "text/latex": "$$(\\frac{1}{3} + \\frac{2 i}{3}) |0\\rangle- \\frac{2}{3} |1\\rangle$$"
     },
     "metadata": {},
     "output_type": "display_data"
    },
    {
     "data": {
      "text/plain": [
       "<IPython.core.display.Latex object>"
      ],
      "text/latex": "$$\\frac{1}{3} |0\\rangle+\\frac{2}{3} |1\\rangle$$"
     },
     "metadata": {},
     "output_type": "display_data"
    },
    {
     "data": {
      "text/plain": [
       "[0.70710678+0.j,0.70710678+0.j]"
      ]
     },
     "metadata": {},
     "output_type": "display_data"
    },
    {
     "data": {
      "text/plain": [
       "[ 0.33333333+0.66666667j,-0.66666667+0.j        ]"
      ]
     },
     "metadata": {},
     "output_type": "display_data"
    },
    {
     "data": {
      "text/plain": [
       "[0.33333333+0.j,0.66666667+0.j]"
      ]
     },
     "metadata": {},
     "output_type": "display_data"
    }
   ],
   "execution_count": 2
  },
  {
   "cell_type": "markdown",
   "id": "9c8da567773f08ad",
   "metadata": {},
   "source": [
    "And it is also possible to see if a state vector is a valid quantum state vector (i.e., if its Euclidean norm is 1) using the `is_valid()` method:"
   ]
  },
  {
   "cell_type": "code",
   "id": "79e7168f253249de",
   "metadata": {
    "ExecuteTime": {
     "end_time": "2025-01-04T22:32:27.539194Z",
     "start_time": "2025-01-04T22:32:27.536030Z"
    }
   },
   "source": [
    "display(u.is_valid())\n",
    "display(v.is_valid())\n",
    "display(w.is_valid())"
   ],
   "outputs": [
    {
     "data": {
      "text/plain": [
       "True"
      ]
     },
     "metadata": {},
     "output_type": "display_data"
    },
    {
     "data": {
      "text/plain": [
       "True"
      ]
     },
     "metadata": {},
     "output_type": "display_data"
    },
    {
     "data": {
      "text/plain": [
       "False"
      ]
     },
     "metadata": {},
     "output_type": "display_data"
    }
   ],
   "execution_count": 3
  },
  {
   "cell_type": "markdown",
   "id": "510b45f4bbd9abdc",
   "metadata": {},
   "source": [
    "### Simulating measurements using `Statevector`\n",
    "\n",
    "First create a state vector:\n"
   ]
  },
  {
   "cell_type": "code",
   "id": "2ffe09762e1ed246",
   "metadata": {
    "ExecuteTime": {
     "end_time": "2025-01-04T22:32:27.549483Z",
     "start_time": "2025-01-04T22:32:27.544103Z"
    }
   },
   "source": [
    "v = Statevector([(1 + 2.0j) / 3, -2 / 3])\n",
    "v.draw(\"latex\")"
   ],
   "outputs": [
    {
     "data": {
      "text/plain": [
       "<IPython.core.display.Latex object>"
      ],
      "text/latex": "$$(\\frac{1}{3} + \\frac{2 i}{3}) |0\\rangle- \\frac{2}{3} |1\\rangle$$"
     },
     "execution_count": 4,
     "metadata": {},
     "output_type": "execute_result"
    }
   ],
   "execution_count": 4
  },
  {
   "cell_type": "markdown",
   "id": "69ce3312617eac57",
   "metadata": {},
   "source": [
    "Then, `measure()` can be used to simulate a standard basis measurement, and it returns the result of that measurement, plus the new quantum state of our system after that measurement."
   ]
  },
  {
   "cell_type": "code",
   "id": "8ca10c6afce9c316",
   "metadata": {
    "ExecuteTime": {
     "end_time": "2025-01-04T22:32:27.633060Z",
     "start_time": "2025-01-04T22:32:27.628624Z"
    }
   },
   "source": [
    "v.measure()"
   ],
   "outputs": [
    {
     "data": {
      "text/plain": [
       "(np.str_('0'),\n",
       " Statevector([0.4472136+0.89442719j, 0.       +0.j        ],\n",
       "             dims=(2,)))"
      ]
     },
     "execution_count": 5,
     "metadata": {},
     "output_type": "execute_result"
    }
   ],
   "execution_count": 5
  },
  {
   "cell_type": "markdown",
   "id": "e33b5a51bf2311de",
   "metadata": {},
   "source": [
    "Two things to note:\n",
    "\n",
    "1. The measurement is probabilistic, so the result of the measurement may change each time `measure()` is called.\n",
    "2. There are two possible new quantum state for the state vector $v$ defines above, which are:"
   ]
  },
  {
   "cell_type": "code",
   "id": "d8af8a4566ad4d9f",
   "metadata": {
    "ExecuteTime": {
     "end_time": "2025-01-04T22:32:27.658658Z",
     "start_time": "2025-01-04T22:32:27.652570Z"
    }
   },
   "source": [
    "Statevector([0.4472136+0.89442719j, 0.       +0.j        ]).draw(\"latex\")"
   ],
   "outputs": [
    {
     "data": {
      "text/plain": [
       "<IPython.core.display.Latex object>"
      ],
      "text/latex": "$$(\\frac{\\sqrt{5}}{5} + \\frac{2 \\sqrt{5} i}{5}) |0\\rangle$$"
     },
     "execution_count": 6,
     "metadata": {},
     "output_type": "execute_result"
    }
   ],
   "execution_count": 6
  },
  {
   "cell_type": "markdown",
   "id": "c7d2dc116c1e5417",
   "metadata": {},
   "source": [
    "or $\\frac{1 + 2i}{\\sqrt{5}}|0\\rangle$ (instead of $|0\\rangle$), and:"
   ]
  },
  {
   "cell_type": "code",
   "id": "aa8fa88e68ecd9cf",
   "metadata": {
    "ExecuteTime": {
     "end_time": "2025-01-04T22:32:27.687228Z",
     "start_time": "2025-01-04T22:32:27.683785Z"
    }
   },
   "source": [
    "Statevector([ 0.+0.j, -1.+0.j]).draw(\"latex\")"
   ],
   "outputs": [
    {
     "data": {
      "text/plain": [
       "<IPython.core.display.Latex object>"
      ],
      "text/latex": "$$- |1\\rangle$$"
     },
     "execution_count": 7,
     "metadata": {},
     "output_type": "execute_result"
    }
   ],
   "execution_count": 7
  },
  {
   "cell_type": "markdown",
   "id": "476d1c8c83b384a4",
   "metadata": {},
   "source": "(instead of $|1\\rangle$). They are, in fact, equivalent to the corresponding standard basis state (and it can be verified by checking the actual probabilities, which gives $|\\frac{1 + 2i}{\\sqrt{5}}|^2 = 1$ and $|-1|^2 = 1$)."
  },
  {
   "metadata": {},
   "cell_type": "markdown",
   "source": "The `Statevector` also has a method `sample_counts` that simulates any number of measurements and returns the counts of each possible outcome. And it can be plotted to a graph for better visualization.",
   "id": "bcc01eeb1f079f84"
  },
  {
   "metadata": {
    "ExecuteTime": {
     "end_time": "2025-01-04T22:32:27.952691Z",
     "start_time": "2025-01-04T22:32:27.708657Z"
    }
   },
   "cell_type": "code",
   "source": [
    "from qiskit.visualization import plot_histogram\n",
    "\n",
    "statistics = v.sample_counts(1000)\n",
    "display(statistics)\n",
    "plot_histogram(statistics)"
   ],
   "id": "b1c3b95a16db3ba3",
   "outputs": [
    {
     "data": {
      "text/plain": [
       "{np.str_('0'): np.int64(554), np.str_('1'): np.int64(446)}"
      ]
     },
     "metadata": {},
     "output_type": "display_data"
    },
    {
     "data": {
      "text/plain": [
       "<Figure size 640x480 with 1 Axes>"
      ],
      "image/png": "[encoded data removed]"
     },
     "execution_count": 8,
     "metadata": {},
     "output_type": "execute_result"
    }
   ],
   "execution_count": 8
  },
  {
   "metadata": {},
   "cell_type": "markdown",
   "source": "The trial above gives 538/1000 and 462/1000 for outcomes 0 and 1. The theoretical probabilities for these measurements are $|\\frac{1 + 2i}{3}|^2 = 5/9 \\approx 0.5556$ and $|-2/3|^2 = 4/9 \\approx 0.4444$ respectively, and the results are close to these values.",
   "id": "f430af46569698f5"
  },
  {
   "metadata": {},
   "cell_type": "markdown",
   "source": [
    "### Performing operations with `Operator` and `Statevector`\n",
    "\n",
    "QisKit's `Operator` class can be used to define Unitary operations:\n"
   ],
   "id": "3c422466ce2f6e3d"
  },
  {
   "metadata": {
    "ExecuteTime": {
     "end_time": "2025-01-04T22:32:27.961499Z",
     "start_time": "2025-01-04T22:32:27.957315Z"
    }
   },
   "cell_type": "code",
   "source": [
    "from qiskit.quantum_info import Operator\n",
    "\n",
    "X = Operator([[0, 1], [1, 0]])\n",
    "Y = Operator([[0, -1.0j], [1.0j, 0]])\n",
    "Z = Operator([[1, 0], [0, -1]])\n",
    "H = Operator([[1 / sqrt(2), 1 / sqrt(2)], [1 / sqrt(2), -1 / sqrt(2)]])\n",
    "S = Operator([[1, 0], [0, 1.0j]])\n",
    "T = Operator([[1, 0], [0, (1 + 1.0j) / sqrt(2)]])\n",
    "\n",
    "v = Statevector([1, 0])\n",
    "\n",
    "v = v.evolve(H)\n",
    "v = v.evolve(T)\n",
    "v = v.evolve(H)\n",
    "v = v.evolve(T)\n",
    "v = v.evolve(Z)\n",
    "\n",
    "v.draw(\"text\")"
   ],
   "id": "54a9a3f5bcd434b6",
   "outputs": [
    {
     "data": {
      "text/plain": [
       "[ 0.85355339+0.35355339j,-0.35355339+0.14644661j]"
      ]
     },
     "execution_count": 9,
     "metadata": {},
     "output_type": "execute_result"
    }
   ],
   "execution_count": 9
  },
  {
   "metadata": {},
   "cell_type": "markdown",
   "source": [
    "### Quantum Circuits (Look Ahead)\n",
    "\n",
    "The Qiskit's `QuantumCircuit` class can be used to compose qubit unitary operations by defining a quantum circuit, which is, in this demo, simply a sequence of unitary operations performed on a single qubit."
   ],
   "id": "1ade2b061950d68e"
  },
  {
   "metadata": {
    "ExecuteTime": {
     "end_time": "2025-01-04T22:32:28.036267Z",
     "start_time": "2025-01-04T22:32:28.032266Z"
    }
   },
   "cell_type": "code",
   "source": [
    "from qiskit import QuantumCircuit\n",
    "\n",
    "circuit = QuantumCircuit(1)\n",
    "\n",
    "circuit.h(0)\n",
    "circuit.t(0)\n",
    "circuit.h(0)\n",
    "circuit.t(0)\n",
    "circuit.z(0)\n",
    "\n",
    "circuit.draw()"
   ],
   "id": "8d412d8476ee51c1",
   "outputs": [
    {
     "data": {
      "text/plain": [
       "   ┌───┐┌───┐┌───┐┌───┐┌───┐\n",
       "q: ┤ H ├┤ T ├┤ H ├┤ T ├┤ Z ├\n",
       "   └───┘└───┘└───┘└───┘└───┘"
      ],
      "text/html": [
       "<pre style=\"word-wrap: normal;white-space: pre;background: #fff0;line-height: 1.1;font-family: &quot;Courier New&quot;,Courier,monospace\">   ┌───┐┌───┐┌───┐┌───┐┌───┐\n",
       "q: ┤ H ├┤ T ├┤ H ├┤ T ├┤ Z ├\n",
       "   └───┘└───┘└───┘└───┘└───┘</pre>"
      ]
     },
     "execution_count": 10,
     "metadata": {},
     "output_type": "execute_result"
    }
   ],
   "execution_count": 10
  },
  {
   "metadata": {},
   "cell_type": "markdown",
   "source": "The operations in the circuit above is applied sequentially, from top to bottom for the code and from left to right for the circuit diagram. A quantum state vector can be first defined and then evolve according to the sequence of operations in the circuit.",
   "id": "12d78775b424fbbf"
  },
  {
   "metadata": {
    "ExecuteTime": {
     "end_time": "2025-01-04T22:34:58.753459Z",
     "start_time": "2025-01-04T22:34:58.750339Z"
    }
   },
   "cell_type": "code",
   "source": [
    "ket0 = Statevector([1, 0])\n",
    "v = ket0.evolve(circuit)\n",
    "v.draw(\"text\")"
   ],
   "id": "2cf4581a69b90cc6",
   "outputs": [
    {
     "data": {
      "text/plain": [
       "[ 0.85355339+0.35355339j,-0.35355339+0.14644661j]"
      ]
     },
     "execution_count": 11,
     "metadata": {},
     "output_type": "execute_result"
    }
   ],
   "execution_count": 11
  },
  {
   "metadata": {},
   "cell_type": "markdown",
   "source": "And this circuit operation can also be applied and sampled for multiple times through `sample_counts` method:",
   "id": "85eea006d563975a"
  },
  {
   "metadata": {
    "ExecuteTime": {
     "end_time": "2025-01-04T22:38:40.628114Z",
     "start_time": "2025-01-04T22:38:40.598274Z"
    }
   },
   "cell_type": "code",
   "source": [
    "statistics = v.sample_counts(4000)\n",
    "plot_histogram(statistics)"
   ],
   "id": "3c1e5f99111e36be",
   "outputs": [
    {
     "data": {
      "text/plain": [
       "<Figure size 640x480 with 1 Axes>"
      ],
      "image/png": "[encoded data removed]"
     },
     "execution_count": 12,
     "metadata": {},
     "output_type": "execute_result"
    }
   ],
   "execution_count": 12
  }
 ],
 "metadata": {
  "kernelspec": {
   "display_name": "Python 3 (ipykernel)",
   "language": "python",
   "name": "python3"
  },
  "language_info": {
   "codemirror_mode": {
    "name": "ipython",
    "version": 3
   },
   "file_extension": ".py",
   "mimetype": "text/x-python",
   "name": "python",
   "nbconvert_exporter": "python",
   "pygments_lexer": "ipython3",
   "version": "3.13.1"
  }
 },
 "nbformat": 4,
 "nbformat_minor": 5
}
